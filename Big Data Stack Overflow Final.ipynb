{
 "cells": [
  {
   "cell_type": "markdown",
   "metadata": {},
   "source": [
    "### You would need tensorflow v1.4 and above - ensure you have it"
   ]
  },
  {
   "cell_type": "code",
   "execution_count": 1,
   "metadata": {},
   "outputs": [
    {
     "name": "stderr",
     "output_type": "stream",
     "text": [
      "Using TensorFlow backend.\n"
     ]
    }
   ],
   "source": [
    "import itertools\n",
    "import os\n",
    "\n",
    "import matplotlib.pyplot as plt\n",
    "import numpy as np\n",
    "import pandas as pd\n",
    "\n",
    "from sklearn.preprocessing import LabelBinarizer, LabelEncoder\n",
    "from sklearn.metrics import confusion_matrix, classification_report\n",
    "from sklearn.model_selection import train_test_split\n",
    "\n",
    "from tensorflow import keras\n",
    "from keras import Model\n",
    "from keras.layers import Dense, Embedding, LSTM, SpatialDropout1D,Bidirectional,Flatten,Dropout,Input,Conv1D, GlobalMaxPooling1D\n",
    "from keras.models import Sequential\n",
    "from keras.layers import Dense, Activation, Dropout\n",
    "from keras.layers.merge import concatenate\n",
    "from keras.preprocessing import text, sequence\n",
    "from keras import utils\n",
    "%matplotlib inline\n"
   ]
  },
  {
   "cell_type": "markdown",
   "metadata": {},
   "source": [
    "### Data gathering"
   ]
  },
  {
   "cell_type": "markdown",
   "metadata": {},
   "source": [
    "# Data was scraped using Using Kaggle's public dataset BigQuery integration.\n",
    "\n",
    "##### The bigquery code used for data scraping. \n",
    "import bq_helper<br>\n",
    "from bq_helper import BigQueryHelper<br>\n",
    "from google.cloud import bigquery<br>\n",
    "import pandas as pd<br>\n",
    "\n",
    "\n",
    "stackOverflow = bq_helper.BigQueryHelper(active_project=\"bigquery-public-data\",<br>\n",
    "                                   dataset_name=\"stackoverflow\")<br>\n",
    "                                   \n",
    "bq_assistant = BigQueryHelper(\"bigquery-public-data\", \"stackoverflow\")<br>\n",
    "bq_assistant.list_tables()<br>\n",
    "\n",
    "query1 = \"\"\"SELECT id, title, body as post, tags<br>\n",
    "FROM `bigquery-public-data.stackoverflow.posts_questions`<br>\n",
    "WHERE tags IN (\"javascript\", \"java\", \"c#\", \"php\", \"android\", \"jquery\", \"python\", \"html\", \"c++\", \"ios\", \"css\", \"mysql\", \"sql\", \"asp.net\", \"ruby-on-rails\", \"objective-c\", \"c\", \".net\", \"angularjs\", \"iphone\")<br>\n",
    "LIMIT 200000<br>\n",
    "        \"\"\"<br>\n",
    "\n",
    "df.to_csv('Questions&Tags.csv',index=False)<br>\n"
   ]
  },
  {
   "cell_type": "markdown",
   "metadata": {},
   "source": [
    "### Reading the data and seeing contents"
   ]
  },
  {
   "cell_type": "code",
   "execution_count": 2,
   "metadata": {},
   "outputs": [],
   "source": [
    "os.chdir('/Users/Work/Desktop/Big Data')\n",
    "df = pd.read_csv(\"Questions&Tags.csv\",nrows=15000)\n",
    "df.to_csv(\"Questions2.csv\")"
   ]
  },
  {
   "cell_type": "code",
   "execution_count": 3,
   "metadata": {},
   "outputs": [
    {
     "data": {
      "text/html": [
       "<div>\n",
       "<style scoped>\n",
       "    .dataframe tbody tr th:only-of-type {\n",
       "        vertical-align: middle;\n",
       "    }\n",
       "\n",
       "    .dataframe tbody tr th {\n",
       "        vertical-align: top;\n",
       "    }\n",
       "\n",
       "    .dataframe thead th {\n",
       "        text-align: right;\n",
       "    }\n",
       "</style>\n",
       "<table border=\"1\" class=\"dataframe\">\n",
       "  <thead>\n",
       "    <tr style=\"text-align: right;\">\n",
       "      <th></th>\n",
       "      <th>Unnamed: 0</th>\n",
       "      <th>id</th>\n",
       "      <th>title</th>\n",
       "      <th>post</th>\n",
       "      <th>tags</th>\n",
       "    </tr>\n",
       "  </thead>\n",
       "  <tbody>\n",
       "    <tr>\n",
       "      <th>0</th>\n",
       "      <td>0</td>\n",
       "      <td>26111265</td>\n",
       "      <td>how to enable the click method after calling e...</td>\n",
       "      <td>&lt;pre&gt;&lt;code&gt;$('div.view-more').on('click', func...</td>\n",
       "      <td>jquery</td>\n",
       "    </tr>\n",
       "    <tr>\n",
       "      <th>1</th>\n",
       "      <td>1</td>\n",
       "      <td>954504</td>\n",
       "      <td>How to get files in a directory, including all...</td>\n",
       "      <td>&lt;p&gt;I'm trying to get a list of all log files (...</td>\n",
       "      <td>python</td>\n",
       "    </tr>\n",
       "    <tr>\n",
       "      <th>2</th>\n",
       "      <td>2</td>\n",
       "      <td>2107283</td>\n",
       "      <td>how to submit a form and send fields that are ...</td>\n",
       "      <td>&lt;p&gt;I am trying to get a form like this:\\n&lt;a hr...</td>\n",
       "      <td>ruby-on-rails</td>\n",
       "    </tr>\n",
       "    <tr>\n",
       "      <th>3</th>\n",
       "      <td>3</td>\n",
       "      <td>27390370</td>\n",
       "      <td>Python: closest coordinate?</td>\n",
       "      <td>&lt;p&gt;I need help with a function that returns co...</td>\n",
       "      <td>python</td>\n",
       "    </tr>\n",
       "    <tr>\n",
       "      <th>4</th>\n",
       "      <td>4</td>\n",
       "      <td>39742887</td>\n",
       "      <td>communicate scope values between controllers i...</td>\n",
       "      <td>&lt;ol&gt;\\n&lt;li&gt;using getters and setters in service...</td>\n",
       "      <td>angularjs</td>\n",
       "    </tr>\n",
       "  </tbody>\n",
       "</table>\n",
       "</div>"
      ],
      "text/plain": [
       "   Unnamed: 0        id                                              title  \\\n",
       "0           0  26111265  how to enable the click method after calling e...   \n",
       "1           1    954504  How to get files in a directory, including all...   \n",
       "2           2   2107283  how to submit a form and send fields that are ...   \n",
       "3           3  27390370                        Python: closest coordinate?   \n",
       "4           4  39742887  communicate scope values between controllers i...   \n",
       "\n",
       "                                                post           tags  \n",
       "0  <pre><code>$('div.view-more').on('click', func...         jquery  \n",
       "1  <p>I'm trying to get a list of all log files (...         python  \n",
       "2  <p>I am trying to get a form like this:\\n<a hr...  ruby-on-rails  \n",
       "3  <p>I need help with a function that returns co...         python  \n",
       "4  <ol>\\n<li>using getters and setters in service...      angularjs  "
      ]
     },
     "execution_count": 3,
     "metadata": {},
     "output_type": "execute_result"
    }
   ],
   "source": [
    "df.head()"
   ]
  },
  {
   "cell_type": "code",
   "execution_count": 4,
   "metadata": {},
   "outputs": [],
   "source": [
    "df['title']= df['title'].apply(lambda x: \" \".join(x.lower() for x in x.split()))\n",
    "df['title']=df['title'].str.replace('[\"\\n\\'?,]',\" \")"
   ]
  },
  {
   "cell_type": "code",
   "execution_count": 5,
   "metadata": {},
   "outputs": [],
   "source": [
    "df['title']=df['title'].str.replace('[^0-9a-zA-Z+#-.\\s]','')"
   ]
  },
  {
   "cell_type": "code",
   "execution_count": 6,
   "metadata": {},
   "outputs": [],
   "source": [
    "from nltk.corpus import stopwords\n",
    "stop = stopwords.words('english')\n",
    "df['title'] = df['title'].apply(lambda x: \" \".join(x for x in x.split() if x not in stop))"
   ]
  },
  {
   "cell_type": "code",
   "execution_count": 7,
   "metadata": {},
   "outputs": [],
   "source": [
    "import regex as re\n",
    "df['title'] = df['title'].str.replace('http\\S+|www.\\S+', '', case=False)"
   ]
  },
  {
   "cell_type": "code",
   "execution_count": 8,
   "metadata": {},
   "outputs": [],
   "source": [
    "from textblob import Word\n",
    "df['title'] = df['title'].apply(lambda x: \" \".join([Word(word).lemmatize() for word in x.split()]))"
   ]
  },
  {
   "cell_type": "code",
   "execution_count": 9,
   "metadata": {},
   "outputs": [
    {
     "data": {
      "text/plain": [
       "0    enable click method calling e.preventdefault\n",
       "1       get file directory including subdirectory\n",
       "2                 submit form send field form tag\n",
       "3                       python closest coordinate\n",
       "4    communicate scope value controller angularjs\n",
       "Name: title, dtype: object"
      ]
     },
     "execution_count": 9,
     "metadata": {},
     "output_type": "execute_result"
    }
   ],
   "source": [
    "df.title.head()"
   ]
  },
  {
   "cell_type": "code",
   "execution_count": 10,
   "metadata": {},
   "outputs": [],
   "source": [
    "#removing '<p>'\n",
    "df['post']=df['post'].str.strip('<p>')\n",
    "df['post']=df['post'].str.strip('</p>')\n",
    "df['post']=df['post'].str.replace('$','')\n",
    "df['post']= df['post'].apply(lambda x: \" \".join(x.lower() for x in x.split()))\n",
    "df['post']=df['post'].str.replace('[\"\\n\\'?,(,)]',\" \")"
   ]
  },
  {
   "cell_type": "code",
   "execution_count": 11,
   "metadata": {},
   "outputs": [],
   "source": [
    "df['post']=df['post'].str.replace('[^0-9a-zA-Z+#-.\\s]','')"
   ]
  },
  {
   "cell_type": "code",
   "execution_count": 12,
   "metadata": {},
   "outputs": [],
   "source": [
    "from nltk.corpus import stopwords\n",
    "stop = stopwords.words('english')\n",
    "df['post'] = df['post'].apply(lambda x: \" \".join(x for x in x.split() if x not in stop))"
   ]
  },
  {
   "cell_type": "code",
   "execution_count": 13,
   "metadata": {},
   "outputs": [],
   "source": [
    "import regex as re\n",
    "df['post'] = df['post'].str.replace('http\\S+|www.\\S+', '', case=False)"
   ]
  },
  {
   "cell_type": "code",
   "execution_count": 14,
   "metadata": {},
   "outputs": [],
   "source": [
    "from textblob import Word\n",
    "df['post'] = df['post'].apply(lambda x: \" \".join([Word(word).lemmatize() for word in x.split()]))"
   ]
  },
  {
   "cell_type": "code",
   "execution_count": 15,
   "metadata": {},
   "outputs": [
    {
     "data": {
      "text/plain": [
       "0    recode div.view-more .on click function e e.pr...\n",
       "1    trying get list log file .log directory includ...\n",
       "2    trying get form like href rel nofollow norefer...\n",
       "3    need help function return coordinate list coor...\n",
       "4    ol liusing getters setter service later callin...\n",
       "Name: post, dtype: object"
      ]
     },
     "execution_count": 15,
     "metadata": {},
     "output_type": "execute_result"
    }
   ],
   "source": [
    "df.post.head()"
   ]
  },
  {
   "cell_type": "code",
   "execution_count": 16,
   "metadata": {},
   "outputs": [
    {
     "data": {
      "text/plain": [
       "android          1889\n",
       "javascript       1650\n",
       "php              1500\n",
       "java             1492\n",
       "python           1455\n",
       "c#               1043\n",
       "jquery           1007\n",
       "c++               932\n",
       "mysql             895\n",
       "c                 602\n",
       "angularjs         465\n",
       "ruby-on-rails     437\n",
       "css               384\n",
       "asp.net           291\n",
       "sql               281\n",
       "iphone            177\n",
       "html              172\n",
       "ios               167\n",
       "objective-c       128\n",
       ".net               33\n",
       "Name: tags, dtype: int64"
      ]
     },
     "execution_count": 16,
     "metadata": {},
     "output_type": "execute_result"
    }
   ],
   "source": [
    "df.tags.value_counts()"
   ]
  },
  {
   "cell_type": "code",
   "execution_count": 17,
   "metadata": {},
   "outputs": [
    {
     "data": {
      "text/plain": [
       "<matplotlib.axes._subplots.AxesSubplot at 0x10327ec88>"
      ]
     },
     "execution_count": 17,
     "metadata": {},
     "output_type": "execute_result"
    },
    {
     "data": {
      "image/png": "[encoded data removed]",
      "text/plain": [
       "<Figure size 432x288 with 1 Axes>"
      ]
     },
     "metadata": {
      "needs_background": "light"
     },
     "output_type": "display_data"
    }
   ],
   "source": [
    "df['tags'].value_counts().sort_values(ascending=False).plot(kind='bar',title='Number of questions under each tag')"
   ]
  },
  {
   "cell_type": "code",
   "execution_count": 18,
   "metadata": {},
   "outputs": [],
   "source": [
    "post = df.post.values\n",
    "title=df.title.values\n",
    "y =df.tags.values"
   ]
  },
  {
   "cell_type": "markdown",
   "metadata": {},
   "source": [
    "### Splitting the data into train and test set"
   ]
  },
  {
   "cell_type": "code",
   "execution_count": 19,
   "metadata": {},
   "outputs": [],
   "source": [
    "#train_posts, test_posts, train_tags, test_tags = train_test_split(post,y, test_size=.2)\n",
    "#train_title,test_title, train_tags, test_tags = train_test_split(title,y, test_size=.2)\n"
   ]
  },
  {
   "cell_type": "code",
   "execution_count": 20,
   "metadata": {},
   "outputs": [],
   "source": [
    "train_post = df.post[:12000]\n",
    "test_post=df.post[12000:]\n",
    "train_title = df.title[:12000]\n",
    "test_title=df.title[12000:]\n"
   ]
  },
  {
   "cell_type": "code",
   "execution_count": 21,
   "metadata": {},
   "outputs": [],
   "source": [
    "tags_train=df.tags[:12000]\n",
    "tags_test=df.tags[12000:]\n"
   ]
  },
  {
   "cell_type": "markdown",
   "metadata": {},
   "source": [
    "### Tokenizing the data using the keras tokenizer (using the top used 2000 words)"
   ]
  },
  {
   "cell_type": "code",
   "execution_count": 22,
   "metadata": {},
   "outputs": [],
   "source": [
    "max_words = 2000\n",
    "tokenize = text.Tokenizer(num_words=max_words, char_level=False)\n"
   ]
  },
  {
   "cell_type": "code",
   "execution_count": 23,
   "metadata": {},
   "outputs": [],
   "source": [
    "tokenize.fit_on_texts(df.post) # only fit on train\n",
    "post_train = tokenize.texts_to_matrix(train_post)\n",
    "post_test = tokenize.texts_to_matrix(test_post)"
   ]
  },
  {
   "cell_type": "code",
   "execution_count": 24,
   "metadata": {},
   "outputs": [],
   "source": [
    "tokenize.fit_on_texts(df.title) # only fit on train\n",
    "title_train = tokenize.texts_to_matrix(train_title)\n",
    "title_test = tokenize.texts_to_matrix(test_title)"
   ]
  },
  {
   "cell_type": "markdown",
   "metadata": {},
   "source": [
    "### Converting the labels to OneHotEncoded form ([0,1,0,0,0,0,0...0,0])"
   ]
  },
  {
   "cell_type": "code",
   "execution_count": 25,
   "metadata": {},
   "outputs": [],
   "source": [
    "encoder = LabelBinarizer()\n",
    "encoder.fit(tags_train)\n",
    "y_train = encoder.transform(tags_train)\n",
    "y_test = encoder.transform(tags_test)"
   ]
  },
  {
   "cell_type": "code",
   "execution_count": 26,
   "metadata": {},
   "outputs": [],
   "source": [
    "num_classes = len(encoder.classes_)"
   ]
  },
  {
   "cell_type": "markdown",
   "metadata": {},
   "source": [
    "### Printing the training and test input/output shapes"
   ]
  },
  {
   "cell_type": "code",
   "execution_count": 27,
   "metadata": {},
   "outputs": [
    {
     "name": "stdout",
     "output_type": "stream",
     "text": [
      "post_train shape: (12000, 2000)\n",
      "post_test shape: (3000, 2000)\n",
      "tags_train shape: (12000, 20)\n",
      "tags_test shape: (3000, 20)\n"
     ]
    }
   ],
   "source": [
    "print('post_train shape:', post_train.shape)\n",
    "print('post_test shape:', post_test.shape)\n",
    "print('tags_train shape:', y_train.shape)\n",
    "print('tags_test shape:', y_test.shape)"
   ]
  },
  {
   "cell_type": "code",
   "execution_count": 28,
   "metadata": {},
   "outputs": [
    {
     "name": "stdout",
     "output_type": "stream",
     "text": [
      "title_train shape: (12000, 2000)\n",
      "title_test shape: (3000, 2000)\n",
      "tags_train shape: (12000, 20)\n",
      "tags_test shape: (3000, 20)\n"
     ]
    }
   ],
   "source": [
    "print('title_train shape:', title_train.shape)\n",
    "print('title_test shape:', title_test.shape)\n",
    "print('tags_train shape:', y_train.shape)\n",
    "print('tags_test shape:', y_test.shape)"
   ]
  },
  {
   "cell_type": "markdown",
   "metadata": {},
   "source": [
    "### Creating the model"
   ]
  },
  {
   "cell_type": "code",
   "execution_count": 29,
   "metadata": {},
   "outputs": [],
   "source": [
    "#Setting the batch size and number of epochs\n",
    "batch_size = 32\n",
    "epochs = 5"
   ]
  },
  {
   "cell_type": "markdown",
   "metadata": {},
   "source": [
    "### FCFW (post only) with embedding"
   ]
  },
  {
   "cell_type": "code",
   "execution_count": 30,
   "metadata": {},
   "outputs": [
    {
     "name": "stdout",
     "output_type": "stream",
     "text": [
      "WARNING:tensorflow:From /anaconda3/lib/python3.7/site-packages/tensorflow/python/framework/op_def_library.py:263: colocate_with (from tensorflow.python.framework.ops) is deprecated and will be removed in a future version.\n",
      "Instructions for updating:\n",
      "Colocations handled automatically by placer.\n",
      "WARNING:tensorflow:From /anaconda3/lib/python3.7/site-packages/keras/backend/tensorflow_backend.py:3445: calling dropout (from tensorflow.python.ops.nn_ops) with keep_prob is deprecated and will be removed in a future version.\n",
      "Instructions for updating:\n",
      "Please use `rate` instead of `keep_prob`. Rate should be set to `rate = 1 - keep_prob`.\n"
     ]
    }
   ],
   "source": [
    "model_post_emb = Sequential()\n",
    "model_post_emb.add(Embedding(max_words, 100, input_length=post_train.shape[1]))\n",
    "model_post_emb.add(SpatialDropout1D(0.7))\n",
    "model_post_emb.add(Flatten())\n",
    "model_post_emb.add(Dense(20, activation='softmax'))\n",
    "model_post_emb.compile(loss='categorical_crossentropy',\n",
    "              optimizer='adam',\n",
    "              metrics=['accuracy'])"
   ]
  },
  {
   "cell_type": "markdown",
   "metadata": {},
   "source": [
    "### FCFW (title only) with embedding"
   ]
  },
  {
   "cell_type": "code",
   "execution_count": 31,
   "metadata": {},
   "outputs": [],
   "source": [
    "model_title_emb = Sequential()\n",
    "model_title_emb.add(Embedding(max_words, 100, input_length=title_train.shape[1]))\n",
    "model_title_emb.add(SpatialDropout1D(0.7))\n",
    "model_title_emb.add(Flatten())\n",
    "model_title_emb.add(Dense(20, activation='softmax'))\n",
    "model_title_emb.compile(loss='categorical_crossentropy',\n",
    "              optimizer='adam',\n",
    "              metrics=['accuracy'])"
   ]
  },
  {
   "cell_type": "markdown",
   "metadata": {},
   "source": [
    "### FCFW (Both) with embedding"
   ]
  },
  {
   "cell_type": "code",
   "execution_count": 32,
   "metadata": {},
   "outputs": [],
   "source": [
    "model_both_post = Input(shape=(post_train.shape[1],))\n",
    "A1=Embedding(max_words, 100)(model_both_post) \n",
    "A2=Dense(100, activation='relu')(A1)\n",
    "\n",
    "\n",
    "model_both_title = Input(shape=(title_train.shape[1],))\n",
    "B1=Embedding(max_words, 100)(model_both_title) \n",
    "B2=Dense(100, activation='relu')(B1)\n",
    "combined1 = concatenate([model_both_post,model_both_title])\n",
    "dense1=Dense(100, activation='relu')(combined1)\n",
    "output1= Dense(20, activation='softmax')(dense1)\n",
    "\n",
    "\n",
    "model_concat_emb=Model(inputs=[model_both_post,model_both_title],outputs=output1)\n",
    "\n",
    "\n",
    "model_concat_emb.compile(loss='categorical_crossentropy',optimizer='adam',metrics=['accuracy'])"
   ]
  },
  {
   "cell_type": "markdown",
   "metadata": {},
   "source": [
    "### FCFW (post only)"
   ]
  },
  {
   "cell_type": "code",
   "execution_count": 33,
   "metadata": {},
   "outputs": [],
   "source": [
    "model_post_fcfw = Sequential()\n",
    "model_post_fcfw.add(Dense(512, input_shape=(max_words,)))\n",
    "model_post_fcfw.add(Activation('relu'))\n",
    "model_post_fcfw.add(Dropout(0.5))\n",
    "model_post_fcfw.add(Dense(num_classes))\n",
    "model_post_fcfw.add(Activation('softmax'))\n",
    "\n",
    "model_post_fcfw.compile(loss='categorical_crossentropy',\n",
    "              optimizer='adam',\n",
    "              metrics=['accuracy'])"
   ]
  },
  {
   "cell_type": "markdown",
   "metadata": {},
   "source": [
    "### FCFW (title only)"
   ]
  },
  {
   "cell_type": "code",
   "execution_count": 34,
   "metadata": {},
   "outputs": [],
   "source": [
    "model_title_fcfw = Sequential()\n",
    "model_title_fcfw.add(Dense(512, input_shape=(max_words,)))\n",
    "model_title_fcfw.add(Activation('relu'))\n",
    "model_title_fcfw.add(Dropout(0.5))\n",
    "model_title_fcfw.add(Dense(num_classes))\n",
    "model_title_fcfw.add(Activation('softmax'))\n",
    "\n",
    "model_title_fcfw.compile(loss='categorical_crossentropy',\n",
    "              optimizer='adam',\n",
    "              metrics=['accuracy'])"
   ]
  },
  {
   "cell_type": "markdown",
   "metadata": {},
   "source": [
    "### FCFW with both columns"
   ]
  },
  {
   "cell_type": "code",
   "execution_count": 35,
   "metadata": {},
   "outputs": [],
   "source": [
    "model_both_post_fcfw = Input(shape=(post_train.shape[1],)) \n",
    "A3=Dense(100, activation='relu')(model_both_post_fcfw)\n",
    "model_both_title_fcfw = Input(shape=(title_train.shape[1],)) \n",
    "B3=Dense(100, activation='relu')(model_both_title_fcfw)\n",
    "combined2 = concatenate([model_both_post_fcfw,model_both_title_fcfw])\n",
    "dense2=Dense(100, activation='relu')(combined2)\n",
    "output2= Dense(20, activation='softmax')(dense2)\n",
    "model_concat_fcfw=Model(inputs=[model_both_post_fcfw,model_both_title_fcfw],outputs=output2)\n",
    "model_concat_fcfw.compile(loss='categorical_crossentropy',optimizer='adam',metrics=['accuracy'])"
   ]
  },
  {
   "cell_type": "markdown",
   "metadata": {},
   "source": [
    "### Training the models"
   ]
  },
  {
   "cell_type": "code",
   "execution_count": 89,
   "metadata": {},
   "outputs": [
    {
     "name": "stdout",
     "output_type": "stream",
     "text": [
      "Train on 10800 samples, validate on 1200 samples\n",
      "Epoch 1/5\n",
      "10800/10800 [==============================] - 30s 3ms/step - loss: 1.5789 - acc: 0.5932 - val_loss: 0.7643 - val_acc: 0.7708\n",
      "Epoch 2/5\n",
      "10800/10800 [==============================] - 29s 3ms/step - loss: 0.5765 - acc: 0.8333 - val_loss: 0.7563 - val_acc: 0.7675\n",
      "Epoch 3/5\n",
      "10800/10800 [==============================] - 29s 3ms/step - loss: 0.3962 - acc: 0.8839 - val_loss: 0.8314 - val_acc: 0.7808\n",
      "Epoch 4/5\n",
      "10800/10800 [==============================] - 31s 3ms/step - loss: 0.3005 - acc: 0.9115 - val_loss: 0.9010 - val_acc: 0.7683\n",
      "Epoch 5/5\n",
      "10800/10800 [==============================] - 30s 3ms/step - loss: 0.2399 - acc: 0.9275 - val_loss: 0.9668 - val_acc: 0.7742\n"
     ]
    }
   ],
   "source": [
    "history_post_emb=model_post_emb.fit(post_train, y_train,\n",
    "                    batch_size=batch_size,\n",
    "                    epochs=epochs,\n",
    "                    verbose=1,\n",
    "                    validation_split=0.1)"
   ]
  },
  {
   "cell_type": "code",
   "execution_count": 90,
   "metadata": {},
   "outputs": [
    {
     "name": "stdout",
     "output_type": "stream",
     "text": [
      "Train on 10800 samples, validate on 1200 samples\n",
      "Epoch 1/5\n",
      "10800/10800 [==============================] - 33s 3ms/step - loss: 2.0699 - acc: 0.4404 - val_loss: 1.2685 - val_acc: 0.6125\n",
      "Epoch 2/5\n",
      "10800/10800 [==============================] - 33s 3ms/step - loss: 1.0764 - acc: 0.6695 - val_loss: 1.2368 - val_acc: 0.6350\n",
      "Epoch 3/5\n",
      "10800/10800 [==============================] - 30s 3ms/step - loss: 0.8941 - acc: 0.7208 - val_loss: 1.2998 - val_acc: 0.6375\n",
      "Epoch 4/5\n",
      "10800/10800 [==============================] - 30s 3ms/step - loss: 0.7944 - acc: 0.7495 - val_loss: 1.3933 - val_acc: 0.6267\n",
      "Epoch 5/5\n",
      "10800/10800 [==============================] - 30s 3ms/step - loss: 0.7323 - acc: 0.7631 - val_loss: 1.4637 - val_acc: 0.6292\n"
     ]
    }
   ],
   "source": [
    "history_title_emb=model_title_emb.fit(title_train, y_train,\n",
    "                    batch_size=batch_size,\n",
    "                    epochs=epochs,\n",
    "                    verbose=1,\n",
    "                    validation_split=0.1)"
   ]
  },
  {
   "cell_type": "code",
   "execution_count": 36,
   "metadata": {},
   "outputs": [
    {
     "name": "stdout",
     "output_type": "stream",
     "text": [
      "WARNING:tensorflow:From /anaconda3/lib/python3.7/site-packages/tensorflow/python/ops/math_ops.py:3066: to_int32 (from tensorflow.python.ops.math_ops) is deprecated and will be removed in a future version.\n",
      "Instructions for updating:\n",
      "Use tf.cast instead.\n",
      "Train on 10800 samples, validate on 1200 samples\n",
      "Epoch 1/5\n",
      "10800/10800 [==============================] - 3s 249us/step - loss: 1.1075 - acc: 0.7479 - val_loss: 0.5496 - val_acc: 0.8558\n",
      "Epoch 2/5\n",
      "10800/10800 [==============================] - 1s 133us/step - loss: 0.3314 - acc: 0.9196 - val_loss: 0.4652 - val_acc: 0.8633\n",
      "Epoch 3/5\n",
      "10800/10800 [==============================] - 1s 137us/step - loss: 0.1673 - acc: 0.9668 - val_loss: 0.4634 - val_acc: 0.8575\n",
      "Epoch 4/5\n",
      "10800/10800 [==============================] - 2s 160us/step - loss: 0.0880 - acc: 0.9877 - val_loss: 0.4719 - val_acc: 0.8575\n",
      "Epoch 5/5\n",
      "10800/10800 [==============================] - 1s 136us/step - loss: 0.0476 - acc: 0.9967 - val_loss: 0.4843 - val_acc: 0.8508\n"
     ]
    }
   ],
   "source": [
    "history_concat_emb=model_concat_emb.fit([post_train,title_train], y_train,\n",
    "                    batch_size=batch_size,\n",
    "                    epochs=epochs,\n",
    "                    verbose=1,\n",
    "                    validation_split=0.1)"
   ]
  },
  {
   "cell_type": "code",
   "execution_count": 37,
   "metadata": {},
   "outputs": [
    {
     "name": "stdout",
     "output_type": "stream",
     "text": [
      "Train on 10800 samples, validate on 1200 samples\n",
      "Epoch 1/5\n",
      "10800/10800 [==============================] - 5s 424us/step - loss: 1.2272 - acc: 0.6722 - val_loss: 0.7294 - val_acc: 0.7875\n",
      "Epoch 2/5\n",
      "10800/10800 [==============================] - 4s 409us/step - loss: 0.5347 - acc: 0.8449 - val_loss: 0.6609 - val_acc: 0.7917\n",
      "Epoch 3/5\n",
      "10800/10800 [==============================] - 4s 374us/step - loss: 0.3502 - acc: 0.8967 - val_loss: 0.6578 - val_acc: 0.8067\n",
      "Epoch 4/5\n",
      "10800/10800 [==============================] - 4s 378us/step - loss: 0.2427 - acc: 0.9329 - val_loss: 0.6864 - val_acc: 0.7967\n",
      "Epoch 5/5\n",
      "10800/10800 [==============================] - 4s 368us/step - loss: 0.1730 - acc: 0.9578 - val_loss: 0.7341 - val_acc: 0.7875\n"
     ]
    }
   ],
   "source": [
    "history_post_fcfw = model_post_fcfw.fit(post_train, y_train,\n",
    "                    batch_size=batch_size,\n",
    "                    epochs=epochs,\n",
    "                    verbose=1,\n",
    "                    validation_split=0.1)"
   ]
  },
  {
   "cell_type": "code",
   "execution_count": 38,
   "metadata": {},
   "outputs": [
    {
     "name": "stdout",
     "output_type": "stream",
     "text": [
      "Train on 10800 samples, validate on 1200 samples\n",
      "Epoch 1/5\n",
      "10800/10800 [==============================] - 4s 400us/step - loss: 1.7589 - acc: 0.5277 - val_loss: 1.2600 - val_acc: 0.6258\n",
      "Epoch 2/5\n",
      "10800/10800 [==============================] - 4s 365us/step - loss: 1.0158 - acc: 0.6892 - val_loss: 1.1498 - val_acc: 0.6483\n",
      "Epoch 3/5\n",
      "10800/10800 [==============================] - 4s 382us/step - loss: 0.8274 - acc: 0.7391 - val_loss: 1.1634 - val_acc: 0.6517\n",
      "Epoch 4/5\n",
      "10800/10800 [==============================] - 4s 383us/step - loss: 0.7091 - acc: 0.7723 - val_loss: 1.1932 - val_acc: 0.6458\n",
      "Epoch 5/5\n",
      "10800/10800 [==============================] - 4s 369us/step - loss: 0.6312 - acc: 0.7950 - val_loss: 1.2408 - val_acc: 0.6450\n"
     ]
    }
   ],
   "source": [
    "history_title_fcfw=model_title_fcfw.fit(title_train, y_train,\n",
    "                    batch_size=batch_size,\n",
    "                    epochs=epochs,\n",
    "                    verbose=1,\n",
    "                    validation_split=0.1)"
   ]
  },
  {
   "cell_type": "code",
   "execution_count": 39,
   "metadata": {},
   "outputs": [
    {
     "name": "stdout",
     "output_type": "stream",
     "text": [
      "Train on 10800 samples, validate on 1200 samples\n",
      "Epoch 1/5\n",
      "10800/10800 [==============================] - 2s 162us/step - loss: 1.0999 - acc: 0.7464 - val_loss: 0.5570 - val_acc: 0.8500\n",
      "Epoch 2/5\n",
      "10800/10800 [==============================] - 1s 137us/step - loss: 0.3286 - acc: 0.9213 - val_loss: 0.4773 - val_acc: 0.8467\n",
      "Epoch 3/5\n",
      "10800/10800 [==============================] - 1s 137us/step - loss: 0.1675 - acc: 0.9669 - val_loss: 0.4506 - val_acc: 0.8517\n",
      "Epoch 4/5\n",
      "10800/10800 [==============================] - 2s 166us/step - loss: 0.0869 - acc: 0.9886 - val_loss: 0.4666 - val_acc: 0.8567\n",
      "Epoch 5/5\n",
      "10800/10800 [==============================] - 2s 147us/step - loss: 0.0467 - acc: 0.9963 - val_loss: 0.4821 - val_acc: 0.8558\n"
     ]
    }
   ],
   "source": [
    "history_concat_fcfw = model_concat_fcfw.fit([post_train,title_train], y_train,\n",
    "                    batch_size=batch_size,\n",
    "                    epochs=epochs,\n",
    "                    verbose=1,\n",
    "                    validation_split=0.1)"
   ]
  },
  {
   "cell_type": "markdown",
   "metadata": {},
   "source": [
    "### Evaluating on the test set"
   ]
  },
  {
   "cell_type": "code",
   "execution_count": 95,
   "metadata": {},
   "outputs": [
    {
     "name": "stdout",
     "output_type": "stream",
     "text": [
      "3000/3000 [==============================] - 1s 488us/step\n",
      "Test score: 1.0685610249837239\n",
      "Test accuracy: 76.63333333333333\n"
     ]
    }
   ],
   "source": [
    "score_post_emb = model_post_emb.evaluate(post_test, y_test,\n",
    "                       batch_size=batch_size, verbose=1)\n",
    "print('Test score:', score_post_emb[0])\n",
    "print('Test accuracy:', score_post_emb[1]*100)"
   ]
  },
  {
   "cell_type": "code",
   "execution_count": 96,
   "metadata": {},
   "outputs": [
    {
     "name": "stdout",
     "output_type": "stream",
     "text": [
      "3000/3000 [==============================] - 1s 472us/step\n",
      "Test score: 1.428955021540324\n",
      "Test accuracy: 62.96666667461396\n"
     ]
    }
   ],
   "source": [
    "score_title_emb = model_title_emb.evaluate(title_test, y_test,\n",
    "                       batch_size=batch_size, verbose=1)\n",
    "print('Test score:', score_title_emb[0])\n",
    "print('Test accuracy:', score_title_emb[1]*100)"
   ]
  },
  {
   "cell_type": "code",
   "execution_count": 40,
   "metadata": {},
   "outputs": [
    {
     "name": "stdout",
     "output_type": "stream",
     "text": [
      "3000/3000 [==============================] - 0s 119us/step\n",
      "Test score: 0.5224396087328593\n",
      "Test accuracy: 84.7666666507721\n"
     ]
    }
   ],
   "source": [
    "score_emb_both = model_concat_emb.evaluate([post_test,title_test], y_test,\n",
    "                       batch_size=batch_size, verbose=1)\n",
    "print('Test score:', score_emb_both[0])\n",
    "print('Test accuracy:', score_emb_both[1]*100)"
   ]
  },
  {
   "cell_type": "code",
   "execution_count": 41,
   "metadata": {},
   "outputs": [
    {
     "name": "stdout",
     "output_type": "stream",
     "text": [
      "3000/3000 [==============================] - 0s 87us/step\n",
      "Test score: 0.7390867972373962\n",
      "Test accuracy: 79.60000000000001\n"
     ]
    }
   ],
   "source": [
    "score_post_fcfw = model_post_fcfw.evaluate(post_test, y_test,\n",
    "                       batch_size=batch_size, verbose=1)\n",
    "print('Test score:', score_post_fcfw[0])\n",
    "print('Test accuracy:', score_post_fcfw[1]*100)"
   ]
  },
  {
   "cell_type": "code",
   "execution_count": 42,
   "metadata": {},
   "outputs": [
    {
     "name": "stdout",
     "output_type": "stream",
     "text": [
      "3000/3000 [==============================] - 0s 72us/step\n",
      "Test score: 1.1948782749176026\n",
      "Test accuracy: 65.26666666666667\n"
     ]
    }
   ],
   "source": [
    "score_title_fcfw = model_title_fcfw.evaluate(title_test, y_test,\n",
    "                       batch_size=batch_size, verbose=1)\n",
    "print('Test score:', score_title_fcfw[0])\n",
    "print('Test accuracy:', score_title_fcfw[1]*100)"
   ]
  },
  {
   "cell_type": "code",
   "execution_count": 43,
   "metadata": {},
   "outputs": [
    {
     "name": "stdout",
     "output_type": "stream",
     "text": [
      "3000/3000 [==============================] - 0s 50us/step\n",
      "Test score: 0.5166552578608195\n",
      "Test accuracy: 85.23333331743876\n"
     ]
    }
   ],
   "source": [
    "score_fcfw_both = model_concat_fcfw.evaluate([post_test,title_test], y_test,\n",
    "                       batch_size=batch_size, verbose=1)\n",
    "print('Test score:', score_fcfw_both[0])\n",
    "print('Test accuracy:', score_fcfw_both[1]*100)"
   ]
  },
  {
   "cell_type": "markdown",
   "metadata": {},
   "source": [
    "## Of all our models, the feed forward network with both the title and post columns seems to have the highest accuracy of ~85.33% Not bad for a set with 20 classes! Much better then a random guess probability of 5%"
   ]
  },
  {
   "cell_type": "markdown",
   "metadata": {},
   "source": [
    "### Sample predictions"
   ]
  },
  {
   "cell_type": "code",
   "execution_count": 44,
   "metadata": {},
   "outputs": [],
   "source": [
    "tags_test=np.array(tags_test)\n",
    "x_test_title=np.array(title_test)\n",
    "x_test_post=np.array(post_test)\n",
    "test_post=np.array(test_post)\n",
    "test_title=np.array(test_title)"
   ]
  },
  {
   "cell_type": "code",
   "execution_count": 46,
   "metadata": {},
   "outputs": [
    {
     "name": "stdout",
     "output_type": "stream",
     "text": [
      "asp.net listview search & edit working ...\n",
      "got asp.net listview search function. retrieving s ...\n",
      "Actual label:asp.net\n",
      "Predicted label:asp.net\n",
      "\n",
      "map search numberformat exception android platform ...\n",
      "friend implemented map search option application r ...\n",
      "Actual label:android\n",
      "Predicted label:android\n",
      "\n",
      "boolean field java model class better use boolean  ...\n",
      "boolean field java model class better use boolean  ...\n",
      "Actual label:java\n",
      "Predicted label:java\n",
      "\n",
      "mysql join query problem ...\n",
      "tablesp pproductp precodepid name 1 aa 2 bb 3 cc c ...\n",
      "Actual label:mysql\n",
      "Predicted label:mysql\n",
      "\n",
      "rake generatesessionstore error gemfile ...\n",
      "trying make site live hostgator following href rel ...\n",
      "Actual label:ruby-on-rails\n",
      "Predicted label:ruby-on-rails\n",
      "\n",
      "javascript fabric.js draw line cycle ...\n",
      "drawing one line. want draw grid.p hr pdiv class s ...\n",
      "Actual label:javascript\n",
      "Predicted label:javascript\n",
      "\n",
      "python import modul whose value given string ...\n",
      "beginner question. p pi code error messagep precod ...\n",
      "Actual label:python\n",
      "Predicted label:python\n",
      "\n",
      "format number adding point 3 number ...\n",
      "unable create function formate number like p preco ...\n",
      "Actual label:c\n",
      "Predicted label:c#\n",
      "\n",
      "reverse word full sentence using loop c# ...\n",
      "want print string reverse format loopp pinput lear ...\n",
      "Actual label:c#\n",
      "Predicted label:python\n",
      "\n",
      "truncating int ...\n",
      "evening p pi curious would cut integer down. examp ...\n",
      "Actual label:python\n",
      "Predicted label:python\n",
      "\n"
     ]
    }
   ],
   "source": [
    "text_labels = encoder.classes_ \n",
    "for i in range(10):\n",
    "    pred=model_post_fcfw.predict([x_test_post])\n",
    "    print(test_title[i][:50],\"...\")\n",
    "    print(test_post[i][:50],\"...\")\n",
    "    print('Actual label:'+tags_test[i])\n",
    "    print(\"Predicted label:\"+text_labels[np.argmax(pred[i])]+\"\\n\")"
   ]
  },
  {
   "cell_type": "code",
   "execution_count": 54,
   "metadata": {},
   "outputs": [
    {
     "name": "stdout",
     "output_type": "stream",
     "text": [
      "asp.net listview search & edit working ...\n",
      "got asp.net listview search function. retrieving s ...\n",
      "Actual label:asp.net\n",
      "Predicted label:asp.net\n",
      "\n",
      "map search numberformat exception android platform ...\n",
      "friend implemented map search option application r ...\n",
      "Actual label:android\n",
      "Predicted label:android\n",
      "\n",
      "boolean field java model class better use boolean  ...\n",
      "boolean field java model class better use boolean  ...\n",
      "Actual label:java\n",
      "Predicted label:java\n",
      "\n",
      "mysql join query problem ...\n",
      "tablesp pproductp precodepid name 1 aa 2 bb 3 cc c ...\n",
      "Actual label:mysql\n",
      "Predicted label:mysql\n",
      "\n",
      "rake generatesessionstore error gemfile ...\n",
      "trying make site live hostgator following href rel ...\n",
      "Actual label:ruby-on-rails\n",
      "Predicted label:ruby-on-rails\n",
      "\n",
      "javascript fabric.js draw line cycle ...\n",
      "drawing one line. want draw grid.p hr pdiv class s ...\n",
      "Actual label:javascript\n",
      "Predicted label:javascript\n",
      "\n",
      "python import modul whose value given string ...\n",
      "beginner question. p pi code error messagep precod ...\n",
      "Actual label:python\n",
      "Predicted label:python\n",
      "\n",
      "format number adding point 3 number ...\n",
      "unable create function formate number like p preco ...\n",
      "Actual label:c\n",
      "Predicted label:javascript\n",
      "\n",
      "reverse word full sentence using loop c# ...\n",
      "want print string reverse format loopp pinput lear ...\n",
      "Actual label:c#\n",
      "Predicted label:c\n",
      "\n",
      "truncating int ...\n",
      "evening p pi curious would cut integer down. examp ...\n",
      "Actual label:python\n",
      "Predicted label:python\n",
      "\n",
      "using php random hour function ...\n",
      "codefileputcontents time.txt time code random hour ...\n",
      "Actual label:php\n",
      "Predicted label:php\n",
      "\n",
      "non translation doctype entity ...\n",
      "doctype entity definedp precode&ltdoctype resource ...\n",
      "Actual label:android\n",
      "Predicted label:java\n",
      "\n",
      "validation viewstate mac failed - occasion ...\n",
      "getting validation view state mac failing occasion ...\n",
      "Actual label:asp.net\n",
      "Predicted label:asp.net\n",
      "\n",
      "exclude specific value ng-options angular j ...\n",
      "new strongangularstrong. want drop ng-options.p pi ...\n",
      "Actual label:angularjs\n",
      "Predicted label:angularjs\n",
      "\n",
      "concatenate string properly ...\n",
      "recode&lt php include connect.php sessionstart bas ...\n",
      "Actual label:php\n",
      "Predicted label:php\n",
      "\n",
      "checkbox value broken statment ...\n",
      "check box trying make required name ageagreep pthe ...\n",
      "Actual label:php\n",
      "Predicted label:php\n",
      "\n",
      "focus away edittext ...\n",
      "application need make something happen edittext lo ...\n",
      "Actual label:android\n",
      "Predicted label:android\n",
      "\n",
      "small class pas value register ...\n",
      "need use small class formed essentially integer ha ...\n",
      "Actual label:c++\n",
      "Predicted label:c++\n",
      "\n",
      "strange behavior integer ...\n",
      "learning program using objective cc++ using xcode  ...\n",
      "Actual label:objective-c\n",
      "Predicted label:c\n",
      "\n",
      "automatically run c++ code different amount specif ...\n",
      "code c++ separately run lot version changing value ...\n",
      "Actual label:c++\n",
      "Predicted label:c\n",
      "\n",
      "assignin filename correctly applying imagefilters  ...\n",
      "trying use pillow apply kernals .jpg image python  ...\n",
      "Actual label:python\n",
      "Predicted label:python\n",
      "\n",
      "c# code cleaningauditing tool (stand-alone outside ...\n",
      "anyone know stand-alone tool c# code cleaningaudit ...\n",
      "Actual label:c#\n",
      "Predicted label:c++\n",
      "\n",
      "increment array value 1 php ...\n",
      "simple array rating0 0 0 0 0 need increment value  ...\n",
      "Actual label:php\n",
      "Predicted label:php\n",
      "\n",
      "undefined method permit nilnilclass rail guide sec ...\n",
      "stuck section 5.12 could figure paramspost nil. er ...\n",
      "Actual label:ruby-on-rails\n",
      "Predicted label:ruby-on-rails\n",
      "\n",
      "onclick event doen work external .js file ...\n",
      "wrote .js file wich create table button etc. aplic ...\n",
      "Actual label:javascript\n",
      "Predicted label:javascript\n",
      "\n",
      "directive name attribute name clashing ...\n",
      "encountered problem clashing directive attribute n ...\n",
      "Actual label:angularjs\n",
      "Predicted label:angularjs\n",
      "\n",
      "separating set using tuples ...\n",
      "list tuples called mixedsets three separate set ex ...\n",
      "Actual label:python\n",
      "Predicted label:python\n",
      "\n",
      "addclass working ...\n",
      "following codep precode #v-nav-exp-liv li .click f ...\n",
      "Actual label:jquery\n",
      "Predicted label:jquery\n",
      "\n",
      "css- correctly implement dropdown menu go sideways ...\n",
      "want dropdown effect go sidways.p pi able codedisp ...\n",
      "Actual label:css\n",
      "Predicted label:css\n",
      "\n",
      "open text file gedit ...\n",
      "trying use href rel nofollow noreferrer codeos.sys ...\n",
      "Actual label:python\n",
      "Predicted label:python\n",
      "\n",
      "using dumpsys meminfo android pagecacheoverflow me ...\n",
      "exploring problem app becomes unable store data sq ...\n",
      "Actual label:android\n",
      "Predicted label:android\n",
      "\n",
      "mysql change table engine batch ...\n",
      "need change whole table database engine codeinnodb ...\n",
      "Actual label:mysql\n",
      "Predicted label:mysql\n",
      "\n",
      "reducing code repetition showing dialog android ...\n",
      "app requires showing dialog various place app.p ph ...\n",
      "Actual label:android\n",
      "Predicted label:android\n",
      "\n",
      "observe improper stack unwinding ...\n",
      "codec++code code make call codeexit 3 code user ap ...\n",
      "Actual label:c++\n",
      "Predicted label:javascript\n",
      "\n",
      "iphone sdk dynamically create view controller niba ...\n",
      "dynamically create view controller nib file p ptha ...\n",
      "Actual label:iphone\n",
      "Predicted label:iphone\n",
      "\n",
      "android textchange listener ...\n",
      "want text null call text change listener.p precode ...\n",
      "Actual label:android\n",
      "Predicted label:android\n",
      "\n",
      "io push notification flow ...\n",
      "working push notification flow getting exactly han ...\n",
      "Actual label:ios\n",
      "Predicted label:ios\n",
      "\n",
      "compilation error running objective c code ubuntu  ...\n",
      "trying run following code p precode#import &ltstdi ...\n",
      "Actual label:objective-c\n",
      "Predicted label:objective-c\n",
      "\n",
      "load android virtual device ...\n",
      "want use avd errorp precodedex loader unable execu ...\n",
      "Actual label:android\n",
      "Predicted label:android\n",
      "\n",
      "syntax error unexpected ...\n",
      "php code displaying unexpected syntax error line n ...\n",
      "Actual label:php\n",
      "Predicted label:php\n",
      "\n",
      "change style.width div class name ...\n",
      "trying change width div set.interval animation. wo ...\n",
      "Actual label:javascript\n",
      "Predicted label:jquery\n",
      "\n",
      "inline-block element adapt image widthauto ...\n",
      "trying make div width containing image height100%  ...\n",
      "Actual label:css\n",
      "Predicted label:css\n",
      "\n",
      "javascript bridge io ...\n",
      "using javascript bridge communicate hybrid web app ...\n",
      "Actual label:javascript\n",
      "Predicted label:javascript\n",
      "\n",
      "adding 5 tablerow dynamically ...\n",
      "trying add table row asp.net table code. tried cod ...\n",
      "Actual label:c#\n",
      "Predicted label:asp.net\n",
      "\n",
      "getting certain item get ...\n",
      "sorry title little confusing know really explain i ...\n",
      "Actual label:javascript\n",
      "Predicted label:javascript\n",
      "\n",
      "jquery special character saving mysql php ...\n",
      "trying save mobile number mysql table following fo ...\n",
      "Actual label:jquery\n",
      "Predicted label:jquery\n",
      "\n",
      "right function c# ...\n",
      "vb function called right return string containing  ...\n",
      "Actual label:c#\n",
      "Predicted label:c++\n",
      "\n",
      "javascript insert backslash dirname + index.html ...\n",
      "question someone given following codep precoderes. ...\n",
      "Actual label:javascript\n",
      "Predicted label:javascript\n",
      "\n",
      "android studio plugin id com.android.application f ...\n",
      "using local gradle distro 3.2.1 android studio lat ...\n",
      "Actual label:android\n",
      "Predicted label:android\n",
      "\n",
      "recyclerview objectanimator ...\n",
      "implemented animation item holder. however tried s ...\n",
      "Actual label:android\n",
      "Predicted label:android\n",
      "\n"
     ]
    }
   ],
   "source": [
    "text_labels = encoder.classes_ \n",
    "\n",
    "for i in range(50):\n",
    "    pred=model_concat_fcfw.predict([x_test_post,x_test_title])\n",
    "    print(test_title[i][:50],\"...\")\n",
    "    print(test_post[i][:50],\"...\")\n",
    "    print('Actual label:'+tags_test[i])\n",
    "    print(\"Predicted label:\"+text_labels[np.argmax(pred[i])]+\"\\n\")\n",
    "    \n",
    "    \n",
    "\n"
   ]
  },
  {
   "cell_type": "code",
   "execution_count": 55,
   "metadata": {},
   "outputs": [],
   "source": [
    "y_softmax = model_concat_fcfw.predict([x_test_post,x_test_title])\n",
    "\n",
    "y_test_1d = []\n",
    "y_pred_1d = []\n",
    "\n",
    "for i in range(len(y_test)):\n",
    "    probs = y_test[i]\n",
    "    index_arr = np.nonzero(probs)\n",
    "    one_hot_index = index_arr[0].item(0)\n",
    "    y_test_1d.append(one_hot_index)\n",
    "\n",
    "for i in range(0, len(y_softmax)):\n",
    "    probs = y_softmax[i]\n",
    "    predicted_index = np.argmax(probs)\n",
    "    y_pred_1d.append(predicted_index)"
   ]
  },
  {
   "cell_type": "markdown",
   "metadata": {},
   "source": [
    "### Generate classification report"
   ]
  },
  {
   "cell_type": "code",
   "execution_count": 56,
   "metadata": {},
   "outputs": [
    {
     "name": "stdout",
     "output_type": "stream",
     "text": [
      "               precision    recall  f1-score   support\n",
      "\n",
      "         .net       0.00      0.00      0.00         7\n",
      "      android       0.91      0.92      0.92       369\n",
      "    angularjs       1.00      0.90      0.95        79\n",
      "      asp.net       0.80      0.77      0.79        71\n",
      "            c       0.80      0.81      0.81       116\n",
      "           c#       0.77      0.72      0.75       228\n",
      "          c++       0.75      0.81      0.78       174\n",
      "          css       0.85      0.90      0.87        79\n",
      "         html       0.69      0.35      0.47        31\n",
      "          ios       0.67      0.56      0.61        32\n",
      "       iphone       0.69      0.61      0.65        33\n",
      "         java       0.83      0.89      0.86       289\n",
      "   javascript       0.84      0.86      0.85       327\n",
      "       jquery       0.85      0.89      0.87       194\n",
      "        mysql       0.85      0.85      0.85       186\n",
      "  objective-c       0.60      0.41      0.49        22\n",
      "          php       0.90      0.90      0.90       302\n",
      "       python       0.96      0.96      0.96       307\n",
      "ruby-on-rails       0.94      0.92      0.93        91\n",
      "          sql       0.67      0.65      0.66        63\n",
      "\n",
      "    micro avg       0.85      0.85      0.85      3000\n",
      "    macro avg       0.77      0.73      0.75      3000\n",
      " weighted avg       0.85      0.85      0.85      3000\n",
      "\n"
     ]
    }
   ],
   "source": [
    "print(classification_report(y_test_1d, y_pred_1d, target_names=encoder.classes_))"
   ]
  },
  {
   "cell_type": "markdown",
   "metadata": {},
   "source": [
    "### Generate confusion matrix acoss data - this code is from the scikit-learn help pages"
   ]
  },
  {
   "cell_type": "code",
   "execution_count": 57,
   "metadata": {},
   "outputs": [],
   "source": [
    "def plot_confusion_matrix(cm, classes,\n",
    "                          title='Confusion matrix',\n",
    "                          cmap=plt.cm.Blues):\n",
    "    \"\"\"\n",
    "    This function prints and plots the confusion matrix.\n",
    "    Normalization can be applied by setting `normalize=True`.\n",
    "    \"\"\"\n",
    "\n",
    "    cm = cm.astype('float') / cm.sum(axis=1)[:, np.newaxis]\n",
    "\n",
    "    plt.imshow(cm, interpolation='nearest', cmap=cmap)\n",
    "    plt.title(title, fontsize=30)\n",
    "    plt.colorbar()\n",
    "    tick_marks = np.arange(len(classes))\n",
    "    plt.xticks(tick_marks, classes, rotation=45, fontsize=22)\n",
    "    plt.yticks(tick_marks, classes, fontsize=22)\n",
    "\n",
    "    fmt = '.2f'\n",
    "    thresh = cm.max() / 2.\n",
    "    for i, j in itertools.product(range(cm.shape[0]), range(cm.shape[1])):\n",
    "        plt.text(j, i, format(cm[i, j], fmt),\n",
    "                 horizontalalignment=\"center\",\n",
    "                 color=\"white\" if cm[i, j] > thresh else \"black\")\n",
    "\n",
    "    plt.ylabel('True label', fontsize=25)\n",
    "    plt.xlabel('Predicted label', fontsize=25)"
   ]
  },
  {
   "cell_type": "code",
   "execution_count": 58,
   "metadata": {},
   "outputs": [
    {
     "data": {
      "image/png": "[encoded data removed]",
      "text/plain": [
       "<Figure size 1728x1440 with 2 Axes>"
      ]
     },
     "metadata": {
      "needs_background": "light"
     },
     "output_type": "display_data"
    }
   ],
   "source": [
    "cnf_matrix = confusion_matrix(y_test_1d, y_pred_1d)\n",
    "plt.figure(figsize=(24,20))\n",
    "plot_confusion_matrix(cnf_matrix, classes=text_labels, title=\"Confusion matrix\")\n",
    "plt.show()"
   ]
  },
  {
   "cell_type": "code",
   "execution_count": null,
   "metadata": {},
   "outputs": [],
   "source": []
  },
  {
   "cell_type": "code",
   "execution_count": null,
   "metadata": {},
   "outputs": [],
   "source": []
  }
 ],
 "metadata": {
  "kernelspec": {
   "display_name": "Python 3",
   "language": "python",
   "name": "python3"
  },
  "language_info": {
   "codemirror_mode": {
    "name": "ipython",
    "version": 3
   },
   "file_extension": ".py",
   "mimetype": "text/x-python",
   "name": "python",
   "nbconvert_exporter": "python",
   "pygments_lexer": "ipython3",
   "version": "3.6.7"
  },
  "toc": {
   "base_numbering": 1,
   "nav_menu": {},
   "number_sections": true,
   "sideBar": true,
   "skip_h1_title": false,
   "title_cell": "Table of Contents",
   "title_sidebar": "Contents",
   "toc_cell": false,
   "toc_position": {},
   "toc_section_display": true,
   "toc_window_display": false
  },
  "varInspector": {
   "cols": {
    "lenName": 16,
    "lenType": 16,
    "lenVar": 40
   },
   "kernels_config": {
    "python": {
     "delete_cmd_postfix": "",
     "delete_cmd_prefix": "del ",
     "library": "var_list.py",
     "varRefreshCmd": "print(var_dic_list())"
    },
    "r": {
     "delete_cmd_postfix": ") ",
     "delete_cmd_prefix": "rm(",
     "library": "var_list.r",
     "varRefreshCmd": "cat(var_dic_list()) "
    }
   },
   "types_to_exclude": [
    "module",
    "function",
    "builtin_function_or_method",
    "instance",
    "_Feature"
   ],
   "window_display": false
  }
 },
 "nbformat": 4,
 "nbformat_minor": 2
}
